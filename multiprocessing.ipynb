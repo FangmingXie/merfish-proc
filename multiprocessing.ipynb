{
 "cells": [
  {
   "cell_type": "code",
   "execution_count": 1,
   "id": "9fa92e7e-5393-4f6a-a3dc-9a7a1dedec46",
   "metadata": {},
   "outputs": [],
   "source": [
    "import multiprocessing as mp\n",
    "import time\n",
    "import tqdm\n",
    "import numpy as np"
   ]
  },
  {
   "cell_type": "code",
   "execution_count": 2,
   "id": "b00eda37-63b3-4648-93ad-22a6646e2960",
   "metadata": {},
   "outputs": [],
   "source": [
    "def foo_pool(x, y):\n",
    "    \n",
    "    time.sleep(0.2)\n",
    "    print(y+x)\n",
    "    return y+x\n",
    "\n",
    "res_all = []\n",
    "def collect_result(res):\n",
    "    # This is called whenever foo_pool(i) returns a result.\n",
    "    # result_list is modified only by the main process, not the pool workers.\n",
    "    res_all.append(res)\n",
    "    \n",
    "def track(res):\n",
    "    # This is called whenever foo_pool(i) returns a result.\n",
    "    # result_list is modified only by the main process, not the pool workers.\n",
    "    res_all.append(res)"
   ]
  },
  {
   "cell_type": "code",
   "execution_count": 3,
   "id": "c9e1ca95-3cf3-42bb-9b80-cfbb4740cc91",
   "metadata": {},
   "outputs": [
    {
     "name": "stdout",
     "output_type": "stream",
     "text": [
      "56\n",
      "\n",
      "78\n",
      "\n",
      "910\n",
      "\n",
      "1112\n",
      "\n",
      "1314\n",
      "\n",
      "[5, 6, 7, 8, 9, 10, 12, 11, 14, 13]\n"
     ]
    }
   ],
   "source": [
    "pool = mp.Pool(2)\n",
    "for i in range(10):\n",
    "    pool.apply_async(foo_pool, args=(i, 5), callback=collect_result)\n",
    "pool.close()\n",
    "pool.join()\n",
    "print(res_all)"
   ]
  },
  {
   "cell_type": "code",
   "execution_count": 17,
   "id": "63adfeee-d728-48ba-ad3f-332d386b69f0",
   "metadata": {},
   "outputs": [
    {
     "name": "stderr",
     "output_type": "stream",
     "text": [
      "100%|██████████| 100/100 [00:10<00:00,  9.94it/s]\n"
     ]
    }
   ],
   "source": [
    "import time\n",
    "import random\n",
    "from tqdm import tqdm\n",
    "\n",
    "def myfunc(a):\n",
    "    time.sleep(0.2)\n",
    "    \n",
    "    # print(a)\n",
    "    return a ** 2\n",
    "\n",
    "alla = np.arange(100)\n",
    "pbar = tqdm(0)\n",
    "def update(*a):\n",
    "    \"\"\"take whatever results from myfunc and don't care\n",
    "    \"\"\"\n",
    "    pbar.update()"
   ]
  },
  {
   "cell_type": "code",
   "execution_count": 22,
   "id": "c66aa6ed-4f79-4a01-9f6c-7753c0924f79",
   "metadata": {},
   "outputs": [
    {
     "name": "stderr",
     "output_type": "stream",
     "text": [
      "  0%|          | 0/100 [00:00<?, ?it/s]         \n",
      "  1%|          | 1/100 [00:00<00:00, 155.92it/s]\n",
      "\n",
      "  2%|▏         | 2/100 [00:00<00:09, 10.21it/s]\u001b[A\n",
      "  6%|▌         | 6/100 [00:00<00:05, 15.99it/s]\u001b[A\n",
      " 10%|█         | 10/100 [00:00<00:05, 17.83it/s]\u001b[A\n",
      " 14%|█▍        | 14/100 [00:00<00:04, 18.67it/s]\u001b[A\n",
      " 18%|█▊        | 18/100 [00:00<00:04, 19.14it/s]\u001b[A\n",
      " 22%|██▏       | 22/100 [00:01<00:04, 19.42it/s]\u001b[A\n",
      " 26%|██▌       | 26/100 [00:01<00:03, 19.60it/s]\u001b[A\n",
      " 30%|███       | 30/100 [00:01<00:03, 19.72it/s]\u001b[A\n",
      " 34%|███▍      | 34/100 [00:01<00:03, 19.79it/s]\u001b[A\n",
      " 38%|███▊      | 38/100 [00:01<00:03, 19.85it/s]\u001b[A\n",
      " 42%|████▏     | 42/100 [00:02<00:02, 19.88it/s]\u001b[A\n",
      " 46%|████▌     | 46/100 [00:02<00:02, 19.91it/s]\u001b[A\n",
      " 50%|█████     | 50/100 [00:02<00:02, 19.92it/s]\u001b[A\n",
      " 54%|█████▍    | 54/100 [00:02<00:02, 19.94it/s]\u001b[A\n",
      " 58%|█████▊    | 58/100 [00:03<00:02, 19.94it/s]\u001b[A\n",
      " 62%|██████▏   | 62/100 [00:03<00:01, 19.95it/s]\u001b[A\n",
      " 66%|██████▌   | 66/100 [00:03<00:01, 19.96it/s]\u001b[A\n",
      " 70%|███████   | 70/100 [00:03<00:01, 19.96it/s]\u001b[A\n",
      " 74%|███████▍  | 74/100 [00:03<00:01, 19.96it/s]\u001b[A\n",
      " 78%|███████▊  | 78/100 [00:04<00:01, 19.96it/s]\u001b[A\n",
      " 82%|████████▏ | 82/100 [00:04<00:00, 19.96it/s]\u001b[A\n",
      " 86%|████████▌ | 86/100 [00:04<00:00, 19.96it/s]\u001b[A\n",
      " 90%|█████████ | 90/100 [00:04<00:00, 19.96it/s]\u001b[A\n",
      " 94%|█████████▍| 94/100 [00:04<00:00, 19.45it/s]\u001b[A\n",
      " 96%|█████████▌| 96/100 [00:05<00:00, 16.66it/s]\u001b[A\n",
      " 98%|█████████▊| 98/100 [00:05<00:00, 14.68it/s]\u001b[A\n",
      "100%|██████████| 100/100 [00:05<00:00, 13.27it/s]\u001b[A\n",
      "102it [00:05, 12.29it/s]                         \u001b[A\n",
      "104it [00:05, 11.60it/s]\u001b[A\n",
      "106it [00:06, 11.11it/s]\u001b[A\n",
      "108it [00:06, 10.76it/s]\u001b[A\n",
      "110it [00:06, 10.54it/s]\u001b[A\n",
      "112it [00:06, 10.36it/s]\u001b[A\n",
      "114it [00:06, 10.25it/s]\u001b[A\n",
      "116it [00:07, 10.16it/s]\u001b[A\n",
      "118it [00:07, 10.10it/s]\u001b[A\n",
      "120it [00:07, 10.07it/s]\u001b[A\n",
      "122it [00:07, 10.04it/s]\u001b[A\n",
      "124it [00:07, 10.02it/s]\u001b[A\n",
      "126it [00:08, 10.01it/s]\u001b[A\n",
      "128it [00:08, 10.00it/s]\u001b[A\n",
      "130it [00:08,  9.99it/s]\u001b[A\n",
      "132it [00:08,  9.99it/s]\u001b[A\n",
      "134it [00:08,  9.99it/s]\u001b[A\n",
      "136it [00:09,  9.98it/s]\u001b[A\n",
      "138it [00:09,  9.98it/s]\u001b[A\n",
      "140it [00:09,  9.98it/s]\u001b[A\n",
      "142it [00:09,  9.97it/s]\u001b[A\n",
      "144it [00:09,  9.97it/s]\u001b[A\n",
      "146it [00:10,  9.98it/s]\u001b[A"
     ]
    }
   ],
   "source": [
    "pool = mp.Pool(2)\n",
    "pbar.reset()\n",
    "pbar = tqdm(alla)\n",
    "for i in alla:\n",
    "    pool.apply_async(myfunc, args=(i,), callback=update)\n",
    "# tqdm.write('scheduled')\n",
    "pool.close()\n",
    "pool.join()"
   ]
  },
  {
   "cell_type": "code",
   "execution_count": null,
   "id": "a9378c5f-3027-4e71-b944-fb7d0c73c48e",
   "metadata": {},
   "outputs": [],
   "source": []
  }
 ],
 "metadata": {
  "kernelspec": {
   "display_name": "Python 3",
   "language": "python",
   "name": "python3"
  },
  "language_info": {
   "codemirror_mode": {
    "name": "ipython",
    "version": 3
   },
   "file_extension": ".py",
   "mimetype": "text/x-python",
   "name": "python",
   "nbconvert_exporter": "python",
   "pygments_lexer": "ipython3",
   "version": "3.9.7"
  }
 },
 "nbformat": 4,
 "nbformat_minor": 5
}
