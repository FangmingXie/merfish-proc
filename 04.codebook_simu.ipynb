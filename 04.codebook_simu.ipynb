{
 "cells": [
  {
   "cell_type": "code",
   "execution_count": 38,
   "id": "a87dea19-e00b-499b-a2c0-533bcff78305",
   "metadata": {},
   "outputs": [],
   "source": [
    "import numpy as np\n",
    "import itertools\n",
    "import tqdm\n",
    "\n",
    "from dredFISH.Utils.__init__plots import *\n",
    "import matplotlib.pyplot as plt\n",
    "import seaborn as sns"
   ]
  },
  {
   "cell_type": "code",
   "execution_count": 39,
   "id": "f57c4dcb-a71d-4eac-a0fc-e290fe4d4958",
   "metadata": {},
   "outputs": [
    {
     "data": {
      "text/plain": [
       "3060"
      ]
     },
     "execution_count": 39,
     "metadata": {},
     "output_type": "execute_result"
    }
   ],
   "source": [
    "N = np.math.factorial(18)/(np.math.factorial(4)*np.math.factorial(14))\n",
    "N = int(N)\n",
    "N"
   ]
  },
  {
   "cell_type": "code",
   "execution_count": 3,
   "id": "4ebf7ed3-4e21-4646-90bc-88c43e64c77e",
   "metadata": {},
   "outputs": [
    {
     "data": {
      "text/plain": [
       "(3060,\n",
       " array([[ 0,  1,  2,  3],\n",
       "        [ 0,  1,  2,  4],\n",
       "        [ 0,  1,  2,  5],\n",
       "        [ 0,  1,  2,  6],\n",
       "        [ 0,  1,  2,  7],\n",
       "        [ 0,  1,  2,  8],\n",
       "        [ 0,  1,  2,  9],\n",
       "        [ 0,  1,  2, 10],\n",
       "        [ 0,  1,  2, 11],\n",
       "        [ 0,  1,  2, 12]]))"
      ]
     },
     "execution_count": 3,
     "metadata": {},
     "output_type": "execute_result"
    }
   ],
   "source": [
    "allcodes = np.asarray(list(itertools.combinations(range(18),4)))\n",
    "len(allcodes), allcodes[:10]"
   ]
  },
  {
   "cell_type": "code",
   "execution_count": 4,
   "id": "da688cb7-9a12-459d-afdf-ac72f48d7189",
   "metadata": {},
   "outputs": [
    {
     "data": {
      "text/plain": [
       "(3060, 18)"
      ]
     },
     "execution_count": 4,
     "metadata": {},
     "output_type": "execute_result"
    }
   ],
   "source": [
    "allcodes_b = np.zeros((len(allcodes), 18), dtype=int)\n",
    "for i, code in enumerate(allcodes):\n",
    "    allcodes_b[i,code] = 1\n",
    "allcodes_b.shape"
   ]
  },
  {
   "cell_type": "code",
   "execution_count": 5,
   "id": "b974572a-caa8-405b-b83d-49697f25fb33",
   "metadata": {},
   "outputs": [
    {
     "data": {
      "text/plain": [
       "148"
      ]
     },
     "execution_count": 5,
     "metadata": {},
     "output_type": "execute_result"
    }
   ],
   "source": [
    "remained = np.zeros((1,18),dtype=int)\n",
    "for code in allcodes_b:\n",
    "    cond = np.any(np.sum(code.reshape(1,-1) != remained, axis=1) < 4)\n",
    "    if cond:\n",
    "        continue\n",
    "    else:\n",
    "        remained = np.vstack([remained, code])\n",
    "n = len(remained[1:])\n",
    "n"
   ]
  },
  {
   "cell_type": "code",
   "execution_count": 6,
   "id": "cafb3b82-2526-4ff4-8920-a4de531bfe3c",
   "metadata": {},
   "outputs": [],
   "source": [
    "def one_round(allcodes_b, idx):\n",
    "    remained = np.zeros((1,18),dtype=int)\n",
    "    for code in allcodes_b[idx]:\n",
    "        cond = np.any(np.sum(code.reshape(1,-1) != remained, axis=1) < 4)\n",
    "        if cond:\n",
    "            continue\n",
    "        else:\n",
    "            remained = np.vstack([remained, code])\n",
    "    n = len(remained[1:])\n",
    "    return n"
   ]
  },
  {
   "cell_type": "code",
   "execution_count": 9,
   "id": "c8cb399b-9b73-4e01-b662-47b9b5d888c8",
   "metadata": {},
   "outputs": [
    {
     "data": {
      "text/plain": [
       "148"
      ]
     },
     "execution_count": 9,
     "metadata": {},
     "output_type": "execute_result"
    }
   ],
   "source": [
    "one_round(allcodes_b, np.arange(N))"
   ]
  },
  {
   "cell_type": "code",
   "execution_count": 13,
   "id": "03d28aac-b43b-4a53-9a03-3263c93306ce",
   "metadata": {},
   "outputs": [],
   "source": [
    "res = []"
   ]
  },
  {
   "cell_type": "code",
   "execution_count": 42,
   "id": "c0fb83d2-f587-40c3-ab4e-ae670da43e98",
   "metadata": {},
   "outputs": [
    {
     "name": "stderr",
     "output_type": "stream",
     "text": [
      "100%|██████████| 1000/1000 [02:10<00:00,  7.65it/s]\n"
     ]
    }
   ],
   "source": [
    "for i in tqdm.tqdm(range(1000)):\n",
    "    a = one_round(allcodes_b, np.random.permutation(N))\n",
    "    res.append(a)"
   ]
  },
  {
   "cell_type": "code",
   "execution_count": 43,
   "id": "c015eeb5-e704-4a95-8d23-2f9291660041",
   "metadata": {},
   "outputs": [
    {
     "data": {
      "text/plain": [
       "(1300, 159)"
      ]
     },
     "execution_count": 43,
     "metadata": {},
     "output_type": "execute_result"
    }
   ],
   "source": [
    "len(res), np.max(res)"
   ]
  },
  {
   "cell_type": "code",
   "execution_count": 44,
   "id": "dc1ef037-dc35-4a3c-94fb-01b2bbc66311",
   "metadata": {},
   "outputs": [
    {
     "name": "stderr",
     "output_type": "stream",
     "text": [
      "/home/fangming/anaconda3/envs/mymerfish/lib/python3.9/site-packages/seaborn/_decorators.py:36: FutureWarning: Pass the following variable as a keyword arg: x. From version 0.12, the only valid positional argument will be `data`, and passing other arguments without an explicit keyword will result in an error or misinterpretation.\n",
      "  warnings.warn(\n"
     ]
    },
    {
     "data": {
      "image/png": "[encoded data removed]",
      "text/plain": [
       "<Figure size 576x144 with 1 Axes>"
      ]
     },
     "metadata": {
      "image/png": {
       "height": 173,
       "width": 469
      }
     },
     "output_type": "display_data"
    }
   ],
   "source": [
    "fig, ax = plt.subplots(figsize=(8,2))\n",
    "sns.boxplot(res, ax=ax)\n",
    "sns.despine(ax=ax)\n",
    "ax.set_xticks(np.arange(np.min(res), np.max(res)+1, 2))\n",
    "ax.set_xlabel(f'Number of codes ({len(res)} random trials)')\n",
    "plt.show()"
   ]
  },
  {
   "cell_type": "code",
   "execution_count": null,
   "id": "2188142e-3e83-4532-b6b3-b3cf70ee5e95",
   "metadata": {},
   "outputs": [],
   "source": []
  }
 ],
 "metadata": {
  "kernelspec": {
   "display_name": "Python 3",
   "language": "python",
   "name": "python3"
  },
  "language_info": {
   "codemirror_mode": {
    "name": "ipython",
    "version": 3
   },
   "file_extension": ".py",
   "mimetype": "text/x-python",
   "name": "python",
   "nbconvert_exporter": "python",
   "pygments_lexer": "ipython3",
   "version": "3.9.7"
  }
 },
 "nbformat": 4,
 "nbformat_minor": 5
}
